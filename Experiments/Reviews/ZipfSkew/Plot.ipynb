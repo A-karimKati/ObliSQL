{
 "cells": [
  {
   "cell_type": "code",
   "execution_count": 1,
   "metadata": {},
   "outputs": [],
   "source": [
    "import pandas as pd\n",
    "import seaborn as sns\n",
    "import matplotlib.pyplot as plt\n",
    "import matplotlib.patches as mpatches\n",
    "\n",
    "import os\n",
    "import json"
   ]
  },
  {
   "cell_type": "code",
   "execution_count": 2,
   "metadata": {},
   "outputs": [],
   "source": [
    "plt.rcParams[\"font.family\"] = \"Nimbus Roman\"\n",
    "plt.rcParams[\"font.size\"] = 18  # Adjust the font size\n",
    "colors = ['#a8ddb5', '#7bccc4', '#43a2ca','#0868ac']\n",
    "\n",
    "\n",
    "def read_text_files(directory,component,number,label):\n",
    "    text_data = []\n",
    "    for filename in os.listdir(directory):\n",
    "        if filename.endswith('.txt'):\n",
    "            with open(os.path.join(directory, filename), 'r') as file:\n",
    "                d={\n",
    "                'In-Flight':0,\n",
    "                'Throughput':0,\n",
    "                'Latency(ms)': 0,\n",
    "                'ScaleFactor': component,\n",
    "                \"# of Components\":number,\n",
    "                \"Label\":label\n",
    "                }\n",
    "                for line in file:\n",
    "                    if line.startswith(\"In-Flight Requests\"):\n",
    "                        inFlight = int(line.split(' ')[2].strip())\n",
    "                        d['In-Flight']=inFlight\n",
    "                    if line.startswith(\"Ops/s\"):\n",
    "                        parts = line.split(',')\n",
    "                        throughput = int(parts[1])\n",
    "                        d['Throughput']=throughput/30\n",
    "                    \n",
    "                    if line.startswith(\"Average Latency\"):\n",
    "                        latency = int(line.split(' ')[2])\n",
    "                        d['Latency(ms)']=latency\n",
    "                \n",
    "                text_data.append(d)\n",
    "    return text_data\n",
    "\n"
   ]
  },
  {
   "cell_type": "code",
   "execution_count": 10,
   "metadata": {},
   "outputs": [
    {
     "data": {
      "image/png": "[encoded data removed]",
      "text/plain": [
       "<Figure size 500x350 with 1 Axes>"
      ]
     },
     "metadata": {},
     "output_type": "display_data"
    }
   ],
   "source": [
    "scaleThreeZipf0 = '/home/haseeb/Desktop/ReviewGraphs/ZipfSkew/BarPlot/Waffle/Zipf0' \n",
    "scaleThreeZipf25 = '/home/haseeb/Desktop/ReviewGraphs/ZipfSkew/BarPlot/Waffle/Zipf25'\n",
    "scaleThreeZipf50 = '/home/haseeb/Desktop/ReviewGraphs/ZipfSkew/BarPlot/Waffle/Zipf50'\n",
    "scaleThreeZipf75 = '/home/haseeb/Desktop/ReviewGraphs/ZipfSkew/BarPlot/Waffle/Zipf75' \n",
    "scaleThreeZipf99 = '/home/haseeb/Desktop/ReviewGraphs/ZipfSkew/BarPlot/Waffle/Zipf99' \n",
    "\n",
    "\n",
    "scaleThreeZipf0ORAM = '/home/haseeb/Desktop/ReviewGraphs/ZipfSkew/BarPlot/ORAM/Zipf0' \n",
    "scaleThreeZipf25ORAM = '/home/haseeb/Desktop/ReviewGraphs/ZipfSkew/BarPlot/ORAM/Zipf25'\n",
    "scaleThreeZipf50ORAM = '/home/haseeb/Desktop/ReviewGraphs/ZipfSkew/BarPlot/ORAM/Zipf50'\n",
    "scaleThreeZipf75ORAM = '/home/haseeb/Desktop/ReviewGraphs/ZipfSkew/BarPlot/ORAM/Zipf75' \n",
    "scaleThreeZipf99ORAM = '/home/haseeb/Desktop/ReviewGraphs/ZipfSkew/BarPlot/ORAM/Zipf99' \n",
    "\n",
    "\n",
    "\n",
    "\n",
    "zipf0 = pd.DataFrame(read_text_files(scaleThreeZipf0,'Waffle',3,'0'))\n",
    "zipf25 = pd.DataFrame(read_text_files(scaleThreeZipf25,'Waffle',3,'0.25'))\n",
    "zipf50 = pd.DataFrame(read_text_files(scaleThreeZipf50,'Waffle',3,'0.50'))\n",
    "zipf75 = pd.DataFrame(read_text_files(scaleThreeZipf75,'Waffle',3,'0.75'))\n",
    "zipf99 = pd.DataFrame(read_text_files(scaleThreeZipf99,'Waffle',3,'0.99'))\n",
    "\n",
    "zipf0ORAM = pd.DataFrame(read_text_files(scaleThreeZipf0ORAM,'ORAM',3,'0'))\n",
    "zipf25ORAM = pd.DataFrame(read_text_files(scaleThreeZipf25ORAM,'ORAM',3,'0.25'))\n",
    "zipf50ORAM = pd.DataFrame(read_text_files(scaleThreeZipf50ORAM,'ORAM',3,'0.50'))\n",
    "zipf75ORAM = pd.DataFrame(read_text_files(scaleThreeZipf75ORAM,'ORAM',3,'0.75'))\n",
    "zipf99ORAM = pd.DataFrame(read_text_files(scaleThreeZipf99ORAM,'ORAM',3,'0.99'))\n",
    "\n",
    "\n",
    "combined_df = pd.concat([zipf0, zipf25, zipf50, zipf75, zipf99, zipf0ORAM, zipf25ORAM, zipf50ORAM, zipf75ORAM, zipf99ORAM], ignore_index=True)\n",
    "\n",
    "combined_df.rename(columns={'ScaleFactor': 'KV-Store','Label':\"Zipfian\"}, inplace=True)\n",
    "\n",
    "\n",
    "fig, ax = plt.subplots(figsize=(5, 3.5))  # Adjust for double-column if needed\n",
    "ax = sns.barplot(data=combined_df, x='Zipfian', y='Throughput',hue='KV-Store', palette=[\"#7bccc4\",\"#0868ac\"])\n",
    "\n",
    "ax.set_xlabel(\"Zipfian Constant\", fontsize=16)\n",
    "ax.set_ylabel(\"Throughput (Queries/sec)\", fontsize=16)\n",
    "ax.set_yscale(\"log\")\n",
    "ax.set_yscale(\"symlog\")  # Adjust linthresh to control the transition point\n",
    "ax.set_ylim(0, 5000)\n",
    "\n",
    "# ax.set_title(\"Comparison: ObliDB, ObliSQL(Waffle) and ObliSQL(ORAM)\", fontsize=10)\n",
    "ax.tick_params(axis='both', which='major', labelsize=14)\n",
    "# plt.show()\n",
    "\n",
    "ax.legend(title='KV-Store', fontsize=11, title_fontsize=12)\n",
    "\n",
    "fig = ax.get_figure()\n",
    "fig.tight_layout()\n",
    "\n",
    "fig.savefig(\"/home/haseeb/Desktop/ReviewGraphs/Figures/SkewedTpx.png\", format='png')"
   ]
  },
  {
   "cell_type": "code",
   "execution_count": 7,
   "metadata": {},
   "outputs": [
    {
     "name": "stdout",
     "output_type": "stream",
     "text": [
      "                   Throughput  Latency(ms)\n",
      "KV-Store Zipfian                          \n",
      "ORAM     0         613.322222   954.000000\n",
      "         0.25      549.800000  1070.333333\n",
      "         0.50      487.922222  1197.333333\n",
      "         0.75      400.822222  1451.666667\n",
      "         0.99      372.155556  1566.333333\n",
      "Waffle   0        3727.055556   979.000000\n",
      "         0.25     3427.255556  1066.666667\n",
      "         0.50     3047.255556  1196.666667\n",
      "         0.75     2696.888889  1356.000000\n",
      "         0.99     2188.433333  1648.333333\n"
     ]
    }
   ],
   "source": [
    "combined_df\n",
    "average_metrics = combined_df.groupby(['KV-Store', 'Zipfian'])[['Throughput', 'Latency(ms)']].mean()\n",
    "print(average_metrics)"
   ]
  }
 ],
 "metadata": {
  "kernelspec": {
   "display_name": ".venv",
   "language": "python",
   "name": "python3"
  },
  "language_info": {
   "codemirror_mode": {
    "name": "ipython",
    "version": 3
   },
   "file_extension": ".py",
   "mimetype": "text/x-python",
   "name": "python",
   "nbconvert_exporter": "python",
   "pygments_lexer": "ipython3",
   "version": "3.12.3"
  }
 },
 "nbformat": 4,
 "nbformat_minor": 2
}
