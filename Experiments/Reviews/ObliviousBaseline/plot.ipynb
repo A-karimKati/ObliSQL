{
 "cells": [
  {
   "cell_type": "code",
   "execution_count": 2,
   "id": "84dfe230",
   "metadata": {},
   "outputs": [],
   "source": [
    "import pandas as pd\n",
    "import seaborn as sns\n",
    "import matplotlib.pyplot as plt\n",
    "import matplotlib.patches as mpatches\n",
    "\n",
    "import os\n",
    "import json"
   ]
  },
  {
   "cell_type": "code",
   "execution_count": 3,
   "id": "f661ac5d",
   "metadata": {},
   "outputs": [],
   "source": [
    "plt.rcParams[\"font.family\"] = \"Nimbus Roman\"\n",
    "plt.rcParams[\"font.size\"] = 18  # Adjust the font size\n",
    "colors = ['#ccebc5', '#7bccc4', '#2b8cbe','#084081']\n",
    "\n",
    "\n",
    "def read_text_files(directory,component,number,label):\n",
    "    text_data = []\n",
    "    for filename in os.listdir(directory):\n",
    "        if filename.endswith('.txt'):\n",
    "            with open(os.path.join(directory, filename), 'r') as file:\n",
    "                d={\n",
    "                'In-Flight':0,\n",
    "                'Throughput':0,\n",
    "                'Latency(ms)': 0,\n",
    "                'ScaleFactor': component,\n",
    "                \"# of Components\":number,\n",
    "                \"Label\":label\n",
    "                }\n",
    "                for line in file:\n",
    "                    if line.startswith(\"In-Flight Requests\"):\n",
    "                        inFlight = int(line.split(' ')[2].strip())\n",
    "                        d['In-Flight']=inFlight\n",
    "                    if line.startswith(\"Ops/s\"):\n",
    "                        parts = line.split(',')\n",
    "                        throughput = int(parts[1])\n",
    "                        d['Throughput']=throughput/30\n",
    "                    \n",
    "                    if line.startswith(\"Average Latency\"):\n",
    "                        latency = int(line.split(' ')[2])\n",
    "                        d['Latency(ms)']=latency\n",
    "                \n",
    "                text_data.append(d)\n",
    "    return text_data\n",
    "\n"
   ]
  },
  {
   "cell_type": "code",
   "execution_count": 4,
   "id": "36737a1d",
   "metadata": {},
   "outputs": [],
   "source": [
    "scaleOneWaffleBDB = '/home/haseeb/Desktop/ReviewGraphs/ObliviousBaseline/Waffle_BDB' \n",
    "\n",
    "scaleOneORAMBDB = '/home/haseeb/Desktop/ReviewGraphs/ObliviousBaseline/ORAM_BDB' \n",
    "\n",
    "waffleBDB = pd.DataFrame(read_text_files(scaleOneWaffleBDB,'Waffle',1,\"Waffle\"))\n",
    "oRAMBDB = pd.DataFrame(read_text_files(scaleOneORAMBDB,'ORAM',1,\"ORAM\"))\n",
    "\n",
    "ObliDBDF = pd.read_csv(\"/home/haseeb/Desktop/ReviewGraphs/ObliviousBaseline/ObliDB/tabledData.csv\")\n",
    "\n",
    "ObliviatorDF = pd.read_csv(\"/home/haseeb/Desktop/ReviewGraphs/ObliviousBaseline/Obliviator/obliviator.csv\")\n",
    "\n",
    "# Calculate the average RoundTripTime (s) for each Category\n",
    "avg_rtt = ObliviatorDF.groupby(\"Category\")[\"RoundTripTime(s)\"].mean()\n",
    "\n",
    "avg_rtt_df = avg_rtt.reset_index()\n",
    "avg_rtt_df['Throughput'] = 1/avg_rtt_df['RoundTripTime(s)']\n",
    "\n",
    "\n",
    "\n",
    "# avg_rtt_df\n"
   ]
  },
  {
   "cell_type": "code",
   "execution_count": 6,
   "id": "bf616fd7",
   "metadata": {},
   "outputs": [
    {
     "name": "stdout",
     "output_type": "stream",
     "text": [
      "Obliviator: 71.57794351118258\n",
      "Waffle: 556.0555555555555\n",
      "ORAM: 117.68888888888888\n",
      "ObliDB: 96.66000000000001\n"
     ]
    },
    {
     "data": {
      "image/png": "[encoded data removed]",
      "text/plain": [
       "<Figure size 500x350 with 1 Axes>"
      ]
     },
     "metadata": {},
     "output_type": "display_data"
    }
   ],
   "source": [
    "## Manually calculate weighted Average for Obliviator since Run time is too long to have client call join only 5% of the time \n",
    "## Since this requires a lot of queries.\n",
    "\n",
    "weights = {'Join': 0.05, 'Point': 0.475, 'Range': 0.475}\n",
    "avg_rtt_df['Weight'] = avg_rtt_df['Category'].map(weights)\n",
    "weighted_mean_obliviator = (avg_rtt_df['Throughput'] * avg_rtt_df['Weight']).sum() / avg_rtt_df['Weight'].sum()\n",
    "\n",
    "\n",
    "###\n",
    "\n",
    "\n",
    "## Client already takes care of only doing 5% join in these\n",
    "waffleBDBMean = waffleBDB['Throughput'].mean()\n",
    "oRAMBDBMean = oRAMBDB['Throughput'].mean()\n",
    "ObliDBMean = ObliDBDF['Throughput (requests/second)'].mean()\n",
    "\n",
    "print(\"Obliviator:\", weighted_mean_obliviator)\n",
    "print(\"Waffle:\", waffleBDBMean)\n",
    "print(\"ORAM:\", oRAMBDBMean)\n",
    "print(\"ObliDB:\", ObliDBMean)\n",
    "\n",
    "X = [\"Waffle\", \"ORAM\", \"ObliDB\", \"Obliviator\"]\n",
    "\n",
    "# Convert Y from variable names (strings) to their actual values\n",
    "Y = [waffleBDBMean, oRAMBDBMean, ObliDBMean, weighted_mean_obliviator]\n",
    "\n",
    "plt.figure(figsize=(5, 3.5))\n",
    "bars = plt.bar(X, Y, color=colors)\n",
    "plt.ylabel(\"Throughput (Queries/second)\", fontsize=16)\n",
    "ax = plt.gca()\n",
    "ax.tick_params(axis='both', which='major', labelsize=14)\n",
    "plt.yscale('log')\n",
    "plt.ylim(1, 1000)\n",
    "plt.xlabel(\"Database System\", fontsize=16)\n",
    "\n",
    "# Save the figure\n",
    "plt.savefig(\"/home/haseeb/Desktop/ReviewGraphs/Figures/ObliviousBaseline.png\", format='png', bbox_inches='tight')\n",
    "plt.show()"
   ]
  },
  {
   "cell_type": "code",
   "execution_count": 18,
   "id": "769e2268",
   "metadata": {},
   "outputs": [
    {
     "name": "stdout",
     "output_type": "stream",
     "text": [
      "Weighted Average RoundTripTime(ms): 17.154933333333332\n"
     ]
    }
   ],
   "source": [
    "weighted_avg_rtt = (avg_rtt_df['RoundTripTime(s)'] * avg_rtt_df['Weight']).sum() / avg_rtt_df['Weight'].sum()\n",
    "# Convert weighted average RoundTripTime to milliseconds\n",
    "weighted_avg_rtt_ms = weighted_avg_rtt * 1000\n",
    "print(\"Weighted Average RoundTripTime(ms):\", weighted_avg_rtt_ms)\n"
   ]
  }
 ],
 "metadata": {
  "kernelspec": {
   "display_name": "venv",
   "language": "python",
   "name": "python3"
  },
  "language_info": {
   "codemirror_mode": {
    "name": "ipython",
    "version": 3
   },
   "file_extension": ".py",
   "mimetype": "text/x-python",
   "name": "python",
   "nbconvert_exporter": "python",
   "pygments_lexer": "ipython3",
   "version": "3.12.3"
  }
 },
 "nbformat": 4,
 "nbformat_minor": 5
}
