{
 "cells": [
  {
   "cell_type": "code",
   "execution_count": 1,
   "metadata": {},
   "outputs": [],
   "source": [
    "import pandas as pd\n",
    "import seaborn as sns\n",
    "import matplotlib.pyplot as plt\n",
    "import matplotlib.patches as mpatches\n",
    "\n",
    "import os\n",
    "import json"
   ]
  },
  {
   "cell_type": "code",
   "execution_count": 2,
   "metadata": {},
   "outputs": [],
   "source": [
    "## Global Params\n",
    "plt.rcParams[\"font.family\"] = \"Nimbus Roman\"\n",
    "plt.rcParams[\"font.size\"] = 18  # Adjust the font size\n",
    "colors = ['#a8ddb5', '#7bccc4', '#43a2ca','#0868ac']\n",
    "\n",
    "## Global Params\n",
    "\n",
    "\n",
    "def read_text_files(directory,component,number,label):\n",
    "    text_data = []\n",
    "    for filename in os.listdir(directory):\n",
    "        if filename.endswith('.txt'):\n",
    "            with open(os.path.join(directory, filename), 'r') as file:\n",
    "                d={\n",
    "                'In-Flight':0,\n",
    "                'Throughput':0,\n",
    "                'Latency(ms)': 0,\n",
    "                'ScaleFactor': component,\n",
    "                \"# of Components\":number,\n",
    "                \"Label\":label\n",
    "                }\n",
    "                for line in file:\n",
    "                    if line.startswith(\"In-Flight Requests\"):\n",
    "                        inFlight = int(line.split(' ')[2].strip())\n",
    "                        d['In-Flight']=inFlight\n",
    "                    if line.startswith(\"Ops/s\"):\n",
    "                        parts = line.split(',')\n",
    "                        throughput = int(parts[1])\n",
    "                        d['Throughput']=throughput/30\n",
    "                    \n",
    "                    if line.startswith(\"Average Latency\"):\n",
    "                        latency = int(line.split(' ')[2])\n",
    "                        d['Latency(ms)']=latency\n",
    "                \n",
    "                text_data.append(d)\n",
    "    return text_data\n",
    "\n",
    "\n",
    "\n",
    "def read_json_files_to_df(directory,label):\n",
    "    throughput_data = []\n",
    "    experiment_number = 1\n",
    "    for filename in os.listdir(directory):\n",
    "        if filename.endswith('.json'):\n",
    "            filepath = os.path.join(directory, filename)\n",
    "            with open(filepath, 'r') as file:\n",
    "                data = json.load(file)\n",
    "                throughput = data.get('Goodput (requests/second)', None)\n",
    "                latency = data.get('Latency Distribution', None).get('Average Latency (microseconds)',None)\n",
    "                if latency is not None:\n",
    "                    latency = latency/1000\n",
    "                if throughput is not None and latency is not None:\n",
    "                    throughput_data.append({'Experiment': f'Experiment {experiment_number}', 'Throughput': throughput, \"Latency(ms)\":latency, \"Label\":label})\n",
    "                    experiment_number += 1\n",
    "    return pd.DataFrame(throughput_data)"
   ]
  },
  {
   "cell_type": "code",
   "execution_count": 3,
   "metadata": {},
   "outputs": [
    {
     "data": {
      "image/png": "[encoded data removed]",
      "text/plain": [
       "<Figure size 500x350 with 1 Axes>"
      ]
     },
     "metadata": {},
     "output_type": "display_data"
    }
   ],
   "source": [
    "#Read CockroachDB\n",
    "directory = \"/home/haseeb/Desktop/ReviewGraphs/PlaintextBaseline/CockroachDB\"\n",
    "mySQLDF = read_json_files_to_df(directory,\"CockroachDB\")\n",
    "\n",
    "\n",
    "#Read Waffle Encrypt Baseline\n",
    "baselineScaleOne = '/home/haseeb/Desktop/ReviewGraphs/PlaintextBaseline/Waffle'\n",
    "\n",
    "#Read Oram Encrypt Baseline\n",
    "oramScaleOne = '/home/haseeb/Desktop/ReviewGraphs/PlaintextBaseline/ORAM'\n",
    "\n",
    "#Read Plaintext baseline\n",
    "plaintextDefault = '/home/haseeb/Desktop/ReviewGraphs/PlaintextBaseline/Plaintext'\n",
    "\n",
    "## Read and Make into DF\n",
    "readORAMBaseLine = read_text_files(oramScaleOne, '1', 3, \"PathOram-KV\")\n",
    "readWaffleBaseLine = read_text_files(baselineScaleOne, '1', 3, \"Waffle-KV\")\n",
    "readPTBaseLine = read_text_files(plaintextDefault, '1', 3, \"Plaintext-KV\")\n",
    "\n",
    "baseLinePTDF = pd.DataFrame(readPTBaseLine)\n",
    "baseLineWaffleDF = pd.DataFrame(readWaffleBaseLine)\n",
    "baseLineORAMDF = pd.DataFrame(readORAMBaseLine)\n",
    "\n",
    "#Make DF\n",
    "newDf = pd.concat([mySQLDF,baseLineWaffleDF,baseLinePTDF,baseLineORAMDF])\n",
    "## Read and Make into DF\n",
    "\n",
    "#Plotting\n",
    "\n",
    "displayOrder = ['CockroachDB',\"Plaintext-KV\",\"Waffle-KV\",\"PathOram-KV\"]\n",
    "fig, ax = plt.subplots(figsize=(5, 3.5)) \n",
    "\n",
    "# Create bar plot\n",
    "ax = sns.barplot(data=newDf, x='Label', y='Throughput',hue='Label',legend=False, palette=colors, order=displayOrder)\n",
    "\n",
    "# Labels and title\n",
    "ax.set_xlabel(\"Database System\", fontsize=16)\n",
    "ax.set_ylabel(\"Throughput (Queries/sec)\", fontsize=16)\n",
    "ax.set_yscale(\"symlog\", linthresh=10) \n",
    "ax.set_ylim(top=20000)\n",
    "\n",
    "ax.tick_params(axis='both', which='major', labelsize=12)\n",
    "\n",
    "\n",
    "fig = ax.get_figure()\n",
    "fig.tight_layout()\n",
    "fig.savefig(\"/home/haseeb/Desktop/ReviewGraphs/Figures/PlaintextBaseline.png\", format=\"png\", bbox_inches=\"tight\")\n",
    "\n",
    "plt.show()"
   ]
  },
  {
   "cell_type": "code",
   "execution_count": 4,
   "metadata": {},
   "outputs": [
    {
     "name": "stdout",
     "output_type": "stream",
     "text": [
      "               Throughput  Latency(ms)\n",
      "Label                                 \n",
      "CockroachDB   8425.470509   137.999000\n",
      "PathOram-KV    173.500000   845.333333\n",
      "Plaintext-KV  6961.144444   141.333333\n",
      "Waffle-KV      820.022222   891.666667\n"
     ]
    }
   ],
   "source": [
    "newDf\n",
    "grouped_df = newDf.groupby('Label')[['Throughput', 'Latency(ms)']].mean()\n",
    "print(grouped_df)"
   ]
  }
 ],
 "metadata": {
  "kernelspec": {
   "display_name": "venv",
   "language": "python",
   "name": "python3"
  },
  "language_info": {
   "codemirror_mode": {
    "name": "ipython",
    "version": 3
   },
   "file_extension": ".py",
   "mimetype": "text/x-python",
   "name": "python",
   "nbconvert_exporter": "python",
   "pygments_lexer": "ipython3",
   "version": "3.12.3"
  }
 },
 "nbformat": 4,
 "nbformat_minor": 2
}
